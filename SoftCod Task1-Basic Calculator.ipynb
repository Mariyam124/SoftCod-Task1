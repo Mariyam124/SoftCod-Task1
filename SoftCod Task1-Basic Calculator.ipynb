{
 "cells": [
  {
   "cell_type": "markdown",
   "id": "df131aab",
   "metadata": {},
   "source": [
    "# Basic Calculator"
   ]
  },
  {
   "cell_type": "code",
   "execution_count": 6,
   "id": "b957a96d",
   "metadata": {},
   "outputs": [
    {
     "name": "stdout",
     "output_type": "stream",
     "text": [
      "Select operation:\n",
      "1.Add\n",
      "2.Subract\n",
      "3.Multiply\n",
      "4.Divide\n",
      "Enter choice (1/2/3/4):3\n",
      "Enter first number: 4\n",
      "Enter second number: 5\n",
      "Result: 20.0\n",
      "Do you want to perform another calculation? (yes/no):yes\n",
      "Enter choice (1/2/3/4):4\n",
      "Enter first number: 24\n",
      "Enter second number: 12\n",
      "Result: 2.0\n",
      "Do you want to perform another calculation? (yes/no):yes\n",
      "Enter choice (1/2/3/4):1\n",
      "Enter first number: 30\n",
      "Enter second number: 20\n",
      "Result: 50.0\n",
      "Do you want to perform another calculation? (yes/no):yes\n",
      "Enter choice (1/2/3/4):2\n",
      "Enter first number: 25\n",
      "Enter second number: 5\n",
      "Result: 20.0\n",
      "Do you want to perform another calculation? (yes/no):no\n"
     ]
    }
   ],
   "source": [
    "def add(x, y):\n",
    "    return(x+y)\n",
    "def subtract(x, y):\n",
    "    return(x-y)\n",
    "def multiply(x, y):\n",
    "    return(x*y)\n",
    "def divide(x, y):\n",
    "    if y!=0:\n",
    "        return(x/y)\n",
    "    else:\n",
    "        return\"Cannot divide by zero\"\n",
    "print(\"Select operation:\")\n",
    "print(\"1.Add\")\n",
    "print(\"2.Subract\")\n",
    "print(\"3.Multiply\")\n",
    "print(\"4.Divide\")\n",
    "\n",
    "while True:\n",
    "    choice = input(\"Enter choice (1/2/3/4):\")\n",
    "    \n",
    "    if choice in('1', '2', '3', '4'):\n",
    "        num1 = float(input(\"Enter first number: \"))\n",
    "        num2 = float(input(\"Enter second number: \"))\n",
    "        \n",
    "        if choice == \"1\":\n",
    "            print(\"Result:\", add(num1, num2))\n",
    "        elif choice == \"2\":\n",
    "            print(\"Result:\", subtract(num1, num2))\n",
    "        elif choice == \"3\":\n",
    "            print(\"Result:\", multiply(num1, num2))\n",
    "        elif choice == \"4\":\n",
    "            print(\"Result:\", divide(num1, num2))\n",
    "    else:\n",
    "        print(\"Invalid Input\")\n",
    "        \n",
    "    next_calculation = input(\"Do you want to perform another calculation? \" \"(yes/no):\")\n",
    "    if  next_calculation.lower() != 'yes':\n",
    "                             break\n",
    "            "
   ]
  },
  {
   "cell_type": "code",
   "execution_count": null,
   "id": "e2e20e82",
   "metadata": {},
   "outputs": [],
   "source": []
  }
 ],
 "metadata": {
  "kernelspec": {
   "display_name": "Python 3 (ipykernel)",
   "language": "python",
   "name": "python3"
  },
  "language_info": {
   "codemirror_mode": {
    "name": "ipython",
    "version": 3
   },
   "file_extension": ".py",
   "mimetype": "text/x-python",
   "name": "python",
   "nbconvert_exporter": "python",
   "pygments_lexer": "ipython3",
   "version": "3.9.12"
  }
 },
 "nbformat": 4,
 "nbformat_minor": 5
}
